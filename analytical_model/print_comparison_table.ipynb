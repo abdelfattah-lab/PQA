{
 "cells": [
  {
   "cell_type": "code",
   "execution_count": null,
   "metadata": {},
   "outputs": [],
   "source": [
    "from model import *\n",
    "from networks import networks\n",
    "import copy"
   ]
  },
  {
   "cell_type": "code",
   "execution_count": null,
   "metadata": {},
   "outputs": [],
   "source": [
    "COMPARISON_TABLE_PATH = 'comparison_table.csv'"
   ]
  },
  {
   "cell_type": "code",
   "execution_count": null,
   "metadata": {},
   "outputs": [],
   "source": [
    "def run_on_hardware(layers, num_out_vec, proto_length_vec, num_proto_vec, num_subspace_vec, memory):\n",
    "    params = {\n",
    "        \"NUM_OUT_VEC\": num_out_vec,\n",
    "        \"PROTO_LENGTH_VEC\": proto_length_vec,\n",
    "        \"NUM_PROTO_VEC\": num_proto_vec,\n",
    "        # \"NUM_PROTO_LAYER\": N_p,\n",
    "        \"NUM_SUBSPACE_VEC\": num_subspace_vec,\n",
    "        # \"PROTO_LENGTH_LAYER\": L_s,\n",
    "    }\n",
    "\n",
    "    total_cycles = 0\n",
    "    initialization_cycles = 0\n",
    "    calculation_cycles_proto = 0\n",
    "    calculation_cycles_pq = 0\n",
    "    calculation_cycles_full = 0\n",
    "    cycles_dla = 0\n",
    "    for layer in layers:\n",
    "        params.update(layer[3])\n",
    "        input_shape = layer[0]\n",
    "        filter_shape = layer[1]\n",
    "        strides = layer[2]\n",
    "\n",
    "        result = simulate_layer(\n",
    "            INPUT_SHAPE             = input_shape,\n",
    "            FILTER_SHAPE            = filter_shape,\n",
    "            STRIDES                 = strides,\n",
    "            FREQUENCY_DLA           = freq_dla,\n",
    "            FREQUENCY_PQ            = freq_pq,\n",
    "            MODEL_FREQUENCY         = model_frequency,\n",
    "            OVERLAPPING_IN_CALC     = overlapping_calculation_with_loading_pq,\n",
    "            USE_CUSTOM_EQUATION     = dla_custom_equation,\n",
    "            MEMORY_TYPE             = memory,\n",
    "            **params\n",
    "        )\n",
    "\n",
    "        total_cycles+= result['PQ']['Ncycles']\n",
    "        initialization_cycles+= result['PQ']['Ncycles_initialization']\n",
    "        calculation_cycles_proto+= result['PQ']['Ncycles_calculation_proto']\n",
    "        calculation_cycles_pq+= result['PQ']['Ncycles_calculation_pq']\n",
    "        calculation_cycles_full+= result['PQ']['Ncycles_calculation']\n",
    "        cycles_dla+= result['DLA']['Ncycles']\n",
    "\n",
    "    return initialization_cycles, calculation_cycles_proto, calculation_cycles_pq, calculation_cycles_full, total_cycles, cycles_dla"
   ]
  },
  {
   "cell_type": "code",
   "execution_count": null,
   "metadata": {},
   "outputs": [],
   "source": [
    "configs = {\n",
    "    'ResNet-20': [\n",
    "        {'PROTO_LENGTH_LAYER': 3, 'NUM_PROTO_LAYER': 64},\n",
    "        {'PROTO_LENGTH_LAYER': 9, 'NUM_PROTO_LAYER': 64},\n",
    "        {'PROTO_LENGTH_LAYER': 9, 'NUM_PROTO_LAYER': 8},\n",
    "        {'PROTO_LENGTH_LAYER': 9, 'NUM_PROTO_LAYER': 16},\n",
    "        {'PROTO_LENGTH_LAYER': 9, 'NUM_PROTO_LAYER': 8, 'PROTO_TABLE_ENTRY': 6, 'PQ_TABLE_ENTRY': 5},\n",
    "        {'PROTO_LENGTH_LAYER': 9, 'NUM_PROTO_LAYER': 16, 'PROTO_TABLE_ENTRY': 6, 'PQ_TABLE_ENTRY': 5},\n",
    "    ],\n",
    "    'kws': [\n",
    "        {'PROTO_LENGTH_LAYER': 8, 'NUM_PROTO_LAYER': 8},\n",
    "        {'PROTO_LENGTH_LAYER': 4, 'NUM_PROTO_LAYER': 16},\n",
    "        {'PROTO_LENGTH_LAYER': 8, 'NUM_PROTO_LAYER': 8, 'PROTO_TABLE_ENTRY': 2, 'PQ_TABLE_ENTRY': 6},\n",
    "        {'PROTO_LENGTH_LAYER': 4, 'NUM_PROTO_LAYER': 16, 'PROTO_TABLE_ENTRY': 2, 'PQ_TABLE_ENTRY': 6},\n",
    "    ],\n",
    "    'EMNIST': [\n",
    "        {'PROTO_LENGTH_LAYER': 4, 'NUM_PROTO_LAYER': 12},\n",
    "        {'PROTO_LENGTH_LAYER': 8, 'NUM_PROTO_LAYER': 8},\n",
    "        {'PROTO_LENGTH_LAYER': 8, 'NUM_PROTO_LAYER': 8, 'PROTO_TABLE_ENTRY': 5, 'PQ_TABLE_ENTRY': 5},\n",
    "        {'PROTO_LENGTH_LAYER': 4, 'NUM_PROTO_LAYER': 12, 'PROTO_TABLE_ENTRY': 5, 'PQ_TABLE_ENTRY': 5},\n",
    "\n",
    "    ]\n",
    "}"
   ]
  },
  {
   "cell_type": "code",
   "execution_count": null,
   "metadata": {},
   "outputs": [],
   "source": [
    "import csv\n",
    "\n",
    "# FILEPATH: /home/afa55/Projects/product_quantization_hls/analytical_model/print_comparison_table.ipynb\n",
    "with open(COMPARISON_TABLE_PATH, 'w', newline='') as csvfile:\n",
    "    writer = csv.writer(csvfile)\n",
    "    writer.writerow(['Network', 'Memory', 'Config', 'num_out_vec','proto_length_vec','num_proto_vec','num_subspace_vec','Initialization Cycles', 'Calculation Cycles Proto', 'Calculation Cycles PQ', 'Calculation Cycles', 'Total Cycles', 'DLA Cycles'])\n",
    "    \n",
    "    for memory in ['DDR', 'HBM']:\n",
    "        for network_name, vals in configs.items():\n",
    "            network = copy.deepcopy(networks[network_name])\n",
    "            for val in vals:\n",
    "                for layer in network:\n",
    "                    layer[3].update(val)\n",
    "                proto_length_vec = min(16, val['PROTO_LENGTH_LAYER'])\n",
    "                num_proto_vec = min(16, val['NUM_PROTO_LAYER'])\n",
    "                num_subspace_vecs = [16, 32, 64]\n",
    "                num_out_vecs = [32,64]\n",
    "                for num_out_vec in num_out_vecs:\n",
    "                    for num_subspace_vec in num_subspace_vecs:\n",
    "                        pq_init, pq_calc_proto, pq_calc_pq, pq_calc, pq_total, dla = run_on_hardware(network, num_out_vec, proto_length_vec, num_proto_vec, num_subspace_vec, memory)\n",
    "                        writer.writerow([network_name, memory, val, num_out_vec, proto_length_vec, num_proto_vec, num_subspace_vec, pq_init, pq_calc_proto, pq_calc_pq, pq_calc, pq_total, dla])\n",
    "\n",
    "print(f\"Comparison table has been written to {COMPARISON_TABLE_PATH}\")\n"
   ]
  }
 ],
 "metadata": {
  "kernelspec": {
   "display_name": "env",
   "language": "python",
   "name": "python3"
  },
  "language_info": {
   "codemirror_mode": {
    "name": "ipython",
    "version": 3
   },
   "file_extension": ".py",
   "mimetype": "text/x-python",
   "name": "python",
   "nbconvert_exporter": "python",
   "pygments_lexer": "ipython3",
   "version": "3.10.12"
  }
 },
 "nbformat": 4,
 "nbformat_minor": 2
}
